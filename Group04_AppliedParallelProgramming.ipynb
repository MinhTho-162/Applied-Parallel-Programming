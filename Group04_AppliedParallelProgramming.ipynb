{
  "nbformat": 4,
  "nbformat_minor": 0,
  "metadata": {
    "colab": {
      "name": "Group04-AppliedParallelProgramming.ipynb",
      "provenance": [],
      "toc_visible": true,
      "collapsed_sections": [
        "wORAxZFN4j0M"
      ],
      "authorship_tag": "ABX9TyNxfdeGL4VrNc6ibdAS9kKx",
      "include_colab_link": true
    },
    "kernelspec": {
      "name": "python3",
      "display_name": "Python 3"
    },
    "language_info": {
      "name": "python"
    }
  },
  "cells": [
    {
      "cell_type": "markdown",
      "metadata": {
        "id": "view-in-github",
        "colab_type": "text"
      },
      "source": [
        "<a href=\"https://colab.research.google.com/github/pdthuc/Applied-Parallel-Programming/blob/main/Group04_AppliedParallelProgramming.ipynb\" target=\"_parent\"><img src=\"https://colab.research.google.com/assets/colab-badge.svg\" alt=\"Open In Colab\"/></a>"
      ]
    },
    {
      "cell_type": "markdown",
      "source": [
        "# BÁO CÁO ĐỒ ÁN MÔN \"LẬP TRÌNH SONG SONG ỨNG DỤNG\"\n",
        "### GVHD: TRẦN TRUNG KIÊN\n",
        "### THỰC HIỆN: Nhóm 04\n",
        "### DANH SÁCH THÀNH VIÊN\n",
        "  1. 18120167 - Nguyễn Viết Dũng\n",
        "  2. 18120579 - Đặng Minh Thọ\n",
        "  3. 18120584 - Phạm Đình Thục\n",
        "  \n",
        "#### Link thùng chứa Github của nhóm: \n",
        "#### Link kế hoạch phân công và làm việc nhóm:\n",
        "#### Link Notebook:  "
      ],
      "metadata": {
        "id": "wORAxZFN4j0M"
      }
    },
    {
      "cell_type": "markdown",
      "source": [
        "# **1. GIỚI THIỆU ĐỀ TÀI**"
      ],
      "metadata": {
        "id": "0IwpCJQl6VXX"
      }
    },
    {
      "cell_type": "markdown",
      "source": [
        "<table><tr>\n",
        "<td> <img src=\"https://drive.google.com/uc?id=1pSIVezyhPs6zI0KhJ__50Ij6rbAWjBcF\n",
        "\" width=\"600\" alt=\"Drawing\" style=\"width: 250px;\"/> </td>\n",
        "<td> <img src=\"https://drive.google.com/uc?id=1KZlGLjK7Lav56GUnXmgZ3XTS6X3vHmQR\" width=\"550\" alt=\"Drawing\" style=\"width: 250px;\"/> </td>\n",
        "</tr></table>\n",
        "\n",
        "*(Nguồn ảnh: lag.vn - medium.datadriveninvestor.com)*\n",
        "\n"
      ],
      "metadata": {
        "id": "d18W-EFzMu3O"
      }
    },
    {
      "cell_type": "markdown",
      "source": [
        "### **1.1 MÔ TẢ TỔNG QUAN**"
      ],
      "metadata": {
        "id": "uXh5Gpde6ckf"
      }
    },
    {
      "cell_type": "markdown",
      "source": [
        "**Tên đề tài:** Parallelizing-Machine-Learning-And-Statistical-Algorithms-For-Stock-Price-Prediction\n",
        "\n",
        "Phân tích thị trường chứng khoán (Stock market analysis)là công việc cần thiết đối với mọi nhà đầu tư (NĐT) chứng khoán, ở mọi thời điểm.\n",
        "  \n",
        "Có hai phương pháp phân tích phổ biến của thị trường chứng khoán:\n",
        "- **Phân tích cơ bản (Fundamental analysis)**: Phân tích cơ bản liên quan đến việc phân tích khả năng sinh lời trong tương lai của công ty trên cơ sở môi trường kinh doanh hiện tại và hiệu quả tài chính của công ty.\n",
        "\n",
        "- **Phân tích kỹ thuật (Technical Analysis)**: Phân tích kỹ thuật bao gồm việc đọc các biểu đồ dữ liệu và sử dụng các số liệu thống kê để xác định các xu hướng trên thị trường chứng khoán.\n",
        "\n"
      ],
      "metadata": {
        "id": "Y-dKStCr75ju"
      }
    },
    {
      "cell_type": "markdown",
      "source": [
        "\n",
        "<img src='https://drive.google.com/uc?id=19o-Vyv4Gj1Nt1agTZeSZ7F6M4Ink5yBc\n",
        "' width=\"900\"  height=\"450\" align=\"center\"/>\n",
        "\n",
        "(*Nguồn ảnh: exmarkets.com*)\n"
      ],
      "metadata": {
        "id": "U9eIKOcqKZvg"
      }
    },
    {
      "cell_type": "markdown",
      "source": [
        "\n",
        "Trong đồ án này, Nhóm chủ yếu tập trung vào phân tích kỹ thuật , nơi giá cổ phiếu trong tương lai được dự đoán bằng cách phân tích dữ liệu quá khứ, tập trung vào việc nghiên cứu giá cả chứng khoán và khối lượng giao dịch. PTKT  thường được sử dụng trong các chiến thuật đầu tư trong ngắn hạn.\n",
        "\n",
        "- **Input:** Các số liệu thống kê được thu thập từ: các khảo sát, biểu đồ, đồ thị diễn biến giá cả và khối lượng giao dịch của cổ phiếu trong quá khứ.\n",
        "- **Output:** Dự đoán giá từng loại cổ phiếu trong tương lai"
      ],
      "metadata": {
        "id": "WJOXEfUZIFyq"
      }
    },
    {
      "cell_type": "markdown",
      "source": [
        "### **1.2 WHY MACHINE LEARNING, DEEP LEARNING ALGORITHMS AND PARALLELIZATIONS ?**"
      ],
      "metadata": {
        "id": "to-vtGfS_-P_"
      }
    },
    {
      "cell_type": "markdown",
      "source": [
        "Vì dữ liệu giá cổ phiếu là loại dữ liệu time-series, trong đó giá cổ phiếu trong tương lai phụ thuộc vào giá trong quá khứ và cũng dựa trên nhiều yếu tố khác. Để áp dụng được các yếu tố này, chúng ta cần thực hiện phân tích bằng cách sử dụng các mô hình hồi quy khác nhau bắt đầu từ tính trung bình (**Averaging**) đến hồi quy tuyến tính (**Linear Regression**) và sau đó chuyển sang các kỹ thuật nâng cao như **Auto ARIMA** và **LSTM**. \n",
        "\n",
        "Việc tính toán các thông số trong các mô hình này liên quan đến rất nhiều thao tác như tính toán sai số (**errors**), trọng số (**weights**), giảm độ dốc (**gradient descent**), v.v. có thể được thực hiện song song để tiết kiệm thời gian."
      ],
      "metadata": {
        "id": "PVUrwCN2AMC3"
      }
    },
    {
      "cell_type": "markdown",
      "source": [
        "### **1.3 LITERATURE REVIEW**"
      ],
      "metadata": {
        "id": "VOO0gaSECYJ6"
      }
    },
    {
      "cell_type": "markdown",
      "source": [
        "Giá cổ phiếu phụ thuộc vào nhiều yếu tố phức tạp nhưng các bộ dữ liệu có sẵn có rất ít các tính năng như giá cổ phiếu cao nhất trong ngày, giá cổ phiếu thấp nhất, giá mở cửa, đóng cửa, ... Những tính năng này không đủ để dự đoán chính xác giá cổ phiếu tương lai. Vì vậy, nhiều khi các mô hình thống kê không đưa ra được kết quả chính xác.\n",
        "\n",
        "Đây là lý do tại sao các nhà nghiên cứu bắt đầu nghiên cứu các phương pháp thay thế để dự đoán chứng khoán như học máy và học sâu. Sau đó, người ta thấy rằng các thuật toán học máy và học sâu hoạt động tốt hơn nhiều so với các thuật toán thống kê truyền thống. Nhưng nhược điểm duy nhất là các dòng máy này rất tốn thời gian.\n",
        "\n",
        "Vì vậy, trong công việc này, Nhóm sẽ cố gắng kết hợp song song các thuật toán học máy và học sâu này để tiết kiệm thời gian và dự đoán giá cổ phiếu trong tương lai nhanh hơn. Trong công việc này, nhóm sẽ song song hóa các thuật toán sau:\n",
        "\n",
        "- **Statistical algorithms**: Moving average, Auto Regression, AutoRegression Integrated Moving Average\n",
        "- **Machine learning algorithms**: Linear regression, KNN\n",
        "- **Deep learning algorithms**: Artificial Neural Networks"
      ],
      "metadata": {
        "id": "5_-JVNaeFmwa"
      }
    },
    {
      "cell_type": "markdown",
      "source": [
        "### **1.4 LIBRARIES, LANGUAGE, COMPILER**"
      ],
      "metadata": {
        "id": "B4ZiZhAjGqD5"
      }
    },
    {
      "cell_type": "markdown",
      "source": [
        "\n",
        "\n",
        "*   **Programming language** - Python\n",
        "*   **Libraries** - Numpy, Scipy, Pandas, Matplotlib, Statsmodel\n",
        "*   **Compiler** - Numba\n",
        "*   OpenMP threads\n",
        "\n",
        "\n"
      ],
      "metadata": {
        "id": "jRjF6TraGlI0"
      }
    },
    {
      "cell_type": "markdown",
      "source": [
        "# TÀI LIỆU THAM KHẢO\n",
        "\n",
        "1.   *https://github.com/ManthanND/Parallelizing-Machine-Learning-And-Statistical-Algorithms-For-Stock-Price-Prediction?fbclid=IwAR3DC9mdvi7f5NCqUUa9810LB6JOma5u12CDnYxsDiTt0uV8bcW1pNworN8*\n",
        "\n",
        "\n"
      ],
      "metadata": {
        "id": "2EXPkXbxPhIL"
      }
    }
  ]
}